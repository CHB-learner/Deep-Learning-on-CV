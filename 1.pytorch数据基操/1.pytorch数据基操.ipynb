{
 "cells": [
  {
   "cell_type": "markdown",
   "id": "2ed1f929",
   "metadata": {},
   "source": [
    "# 1.数据操作"
   ]
  },
  {
   "cell_type": "markdown",
   "id": "9b110009",
   "metadata": {},
   "source": [
    "1.1 张量创建"
   ]
  },
  {
   "cell_type": "code",
   "execution_count": 2,
   "id": "ea255b74",
   "metadata": {},
   "outputs": [],
   "source": [
    "# 导入torch\n",
    "import torch       #-----深度学习pytorch框架\n",
    "import numpy as np #-----Python数据分析大杀器之Numpy"
   ]
  },
  {
   "cell_type": "code",
   "execution_count": 4,
   "id": "edbf79f6",
   "metadata": {},
   "outputs": [
    {
     "data": {
      "text/plain": [
       "(tensor([ 0,  1,  2,  3,  4,  5,  6,  7,  8,  9, 10, 11]),\n",
       " array([ 0,  1,  2,  3,  4,  5,  6,  7,  8,  9, 10, 11]))"
      ]
     },
     "execution_count": 4,
     "metadata": {},
     "output_type": "execute_result"
    }
   ],
   "source": [
    "'''\n",
    "tensor(张量)表示一个数值组成的数组，可以有多个维度，\n",
    "类似numpy中的n维数组,因此很多n维数组有的方法张量也有，\n",
    "下面我们来测试一下有哪些numpy中的方法可以在这里使用。\n",
    "'''\n",
    "x = torch.arange(12)\n",
    "y = np.arange(12)\n",
    "\n",
    "x,y"
   ]
  },
  {
   "cell_type": "code",
   "execution_count": 5,
   "id": "aacb3c11",
   "metadata": {},
   "outputs": [
    {
     "data": {
      "text/plain": [
       "torch.Size([12])"
      ]
     },
     "execution_count": 5,
     "metadata": {},
     "output_type": "execute_result"
    }
   ],
   "source": [
    "# 查看形状\n",
    "x.shape"
   ]
  },
  {
   "cell_type": "code",
   "execution_count": 6,
   "id": "1edea77b",
   "metadata": {},
   "outputs": [
    {
     "data": {
      "text/plain": [
       "12"
      ]
     },
     "execution_count": 6,
     "metadata": {},
     "output_type": "execute_result"
    }
   ],
   "source": [
    "# 查看数量长度\n",
    "len(x)"
   ]
  },
  {
   "cell_type": "code",
   "execution_count": 7,
   "id": "992cdd61",
   "metadata": {},
   "outputs": [
    {
     "data": {
      "text/plain": [
       "tensor([[ 0,  1,  2,  3],\n",
       "        [ 4,  5,  6,  7],\n",
       "        [ 8,  9, 10, 11]])"
      ]
     },
     "execution_count": 7,
     "metadata": {},
     "output_type": "execute_result"
    }
   ],
   "source": [
    "x = x.reshape(3,4)\n",
    "x"
   ]
  },
  {
   "cell_type": "code",
   "execution_count": 8,
   "id": "925a163b",
   "metadata": {},
   "outputs": [
    {
     "data": {
      "text/plain": [
       "tensor([[0., 0., 0., 0.],\n",
       "        [0., 0., 0., 0.],\n",
       "        [0., 0., 0., 0.]])"
      ]
     },
     "execution_count": 8,
     "metadata": {},
     "output_type": "execute_result"
    }
   ],
   "source": [
    "x = torch.zeros(3,4)\n",
    "x"
   ]
  },
  {
   "cell_type": "code",
   "execution_count": 9,
   "id": "86fb8697",
   "metadata": {},
   "outputs": [
    {
     "data": {
      "text/plain": [
       "tensor([[1., 1., 1., 1.],\n",
       "        [1., 1., 1., 1.],\n",
       "        [1., 1., 1., 1.]])"
      ]
     },
     "execution_count": 9,
     "metadata": {},
     "output_type": "execute_result"
    }
   ],
   "source": [
    "x = torch.ones(3,4)\n",
    "x"
   ]
  },
  {
   "cell_type": "code",
   "execution_count": 10,
   "id": "048c3108",
   "metadata": {},
   "outputs": [
    {
     "data": {
      "text/plain": [
       "tensor([[1., 0., 0., 0., 0.],\n",
       "        [0., 1., 0., 0., 0.],\n",
       "        [0., 0., 1., 0., 0.],\n",
       "        [0., 0., 0., 1., 0.],\n",
       "        [0., 0., 0., 0., 1.]])"
      ]
     },
     "execution_count": 10,
     "metadata": {},
     "output_type": "execute_result"
    }
   ],
   "source": [
    "#对角阵\n",
    "l = torch.eye(5)\n",
    "l"
   ]
  },
  {
   "cell_type": "code",
   "execution_count": 11,
   "id": "a74ae8b1",
   "metadata": {},
   "outputs": [
    {
     "data": {
      "text/plain": [
       "tensor([[1., 1., 1., 1., 1.],\n",
       "        [1., 1., 1., 1., 1.],\n",
       "        [1., 1., 1., 1., 1.],\n",
       "        [1., 1., 1., 1., 1.],\n",
       "        [1., 1., 1., 1., 1.]])"
      ]
     },
     "execution_count": 11,
     "metadata": {},
     "output_type": "execute_result"
    }
   ],
   "source": [
    "#ones_like创建形状一致的全为1的元素矩阵\n",
    "x = torch.ones_like(l)\n",
    "x"
   ]
  },
  {
   "cell_type": "code",
   "execution_count": 13,
   "id": "7a3c5e20",
   "metadata": {},
   "outputs": [
    {
     "data": {
      "text/plain": [
       "tensor([[-0.9518, -1.0551,  0.4053, -1.6305],\n",
       "        [-0.8329, -0.3188,  0.4203,  1.2616]])"
      ]
     },
     "execution_count": 13,
     "metadata": {},
     "output_type": "execute_result"
    }
   ],
   "source": [
    "#randn创建随机矩阵\n",
    "x =  torch.randn((2,4))\n",
    "x"
   ]
  },
  {
   "cell_type": "code",
   "execution_count": 14,
   "id": "dae8069a",
   "metadata": {},
   "outputs": [
    {
     "data": {
      "text/plain": [
       "tensor([[1, 1, 1, 1],\n",
       "        [1, 2, 3, 4],\n",
       "        [4, 3, 2, 1]])"
      ]
     },
     "execution_count": 14,
     "metadata": {},
     "output_type": "execute_result"
    }
   ],
   "source": [
    "x = torch.tensor([ [1,1,1,1],\n",
    "                   [1,2,3,4],\n",
    "                   [4,3,2,1]  ])\n",
    "x "
   ]
  },
  {
   "cell_type": "code",
   "execution_count": 24,
   "id": "bf6751ea",
   "metadata": {},
   "outputs": [
    {
     "data": {
      "text/plain": [
       "(torch.Tensor, numpy.ndarray)"
      ]
     },
     "execution_count": 24,
     "metadata": {},
     "output_type": "execute_result"
    }
   ],
   "source": [
    "x1 = x.numpy()\n",
    "type(x),type(x1)"
   ]
  },
  {
   "cell_type": "markdown",
   "id": "5a5cf9bc",
   "metadata": {},
   "source": [
    "1.2 基本运算"
   ]
  },
  {
   "cell_type": "code",
   "execution_count": 110,
   "id": "d5a1f09a",
   "metadata": {},
   "outputs": [
    {
     "data": {
      "text/plain": [
       "(tensor([3, 5, 7, 9]),\n",
       " tensor([-1, -1, -1, -1]),\n",
       " tensor([ 2,  6, 12, 20]),\n",
       " tensor([0.5000, 0.6667, 0.7500, 0.8000]),\n",
       " tensor([ 2.7183,  7.3891, 20.0855, 54.5981]))"
      ]
     },
     "execution_count": 110,
     "metadata": {},
     "output_type": "execute_result"
    }
   ],
   "source": [
    "x = torch.tensor([1,2,3,4])\n",
    "y = torch.tensor([2,3,4,5])\n",
    "x+y , x-y , x*y , x/y , torch.exp(x)"
   ]
  },
  {
   "cell_type": "code",
   "execution_count": 26,
   "id": "fcebcc9b",
   "metadata": {},
   "outputs": [
    {
     "data": {
      "text/plain": [
       "tensor([12, 15, 18, 21])"
      ]
     },
     "execution_count": 26,
     "metadata": {},
     "output_type": "execute_result"
    }
   ],
   "source": [
    "#torch\n",
    "x = torch.arange(12).reshape(3,4)\n",
    "x.sum(dim=0)#按行求和"
   ]
  },
  {
   "cell_type": "code",
   "execution_count": 27,
   "id": "8c50445d",
   "metadata": {},
   "outputs": [
    {
     "data": {
      "text/plain": [
       "array([12, 15, 18, 21])"
      ]
     },
     "execution_count": 27,
     "metadata": {},
     "output_type": "execute_result"
    }
   ],
   "source": [
    "#numpy\n",
    "y = np.arange(12).reshape((3,4))\n",
    "y.sum(axis=0)#按行求和"
   ]
  },
  {
   "cell_type": "markdown",
   "id": "7751b5bd",
   "metadata": {},
   "source": [
    "从上面可以看出，tensor和array都可以按行或案列进行操作，但是在torch中，指定dim参数，numpy中，指定axis参数"
   ]
  },
  {
   "cell_type": "markdown",
   "id": "cc97aa77",
   "metadata": {},
   "source": [
    "1.3 广播机制\n",
    "---\n",
    "我们之前的numpy中介绍过广播机制，在两个数组纬度不同时，可以适当的复制元素来拓展一个纬度或者两个纬度的元素，我们接下来看看torch中是不是也支持广播机制"
   ]
  },
  {
   "cell_type": "code",
   "execution_count": 28,
   "id": "cb035cc7",
   "metadata": {},
   "outputs": [
    {
     "name": "stdout",
     "output_type": "stream",
     "text": [
      "x: tensor([[1, 2, 3],\n",
      "        [4, 5, 6]])\n",
      "y: tensor([1, 1, 1])\n",
      "z: tensor([[2, 3, 4],\n",
      "        [5, 6, 7]])\n"
     ]
    }
   ],
   "source": [
    "x = torch.tensor([[1,2,3],\n",
    "                  [4,5,6]])\n",
    "y = torch.tensor([1,1,1])\n",
    "z = x + y\n",
    "print('x:',x)\n",
    "print('y:',y)\n",
    "print('z:',z)\n"
   ]
  },
  {
   "cell_type": "markdown",
   "id": "6f181725",
   "metadata": {},
   "source": [
    "#  1.4 索引和切片"
   ]
  },
  {
   "cell_type": "code",
   "execution_count": 29,
   "id": "37f0b529",
   "metadata": {},
   "outputs": [],
   "source": [
    "x = torch.tensor([[1,2,3],\n",
    "                  [4,5,6]])"
   ]
  },
  {
   "cell_type": "code",
   "execution_count": 30,
   "id": "bb44ad77",
   "metadata": {},
   "outputs": [
    {
     "data": {
      "text/plain": [
       "tensor([[1, 2],\n",
       "        [4, 5]])"
      ]
     },
     "execution_count": 30,
     "metadata": {},
     "output_type": "execute_result"
    }
   ],
   "source": [
    "# 选取第一列和第二列的数据\n",
    "x[:,[0,1]]"
   ]
  },
  {
   "cell_type": "markdown",
   "id": "2c7926ea",
   "metadata": {},
   "source": [
    "# 2.自动微分（求导）\n",
    "在深度学习中，对于很多层的神经网络而言，人工求导是一件很复杂的事情，因此在如何自动求导是一件很work的事情\n",
    "\n",
    "这里我们假设要对\n",
    "y=(x^T)*x\n",
    "进行求导。首先我们先初始化一个x值"
   ]
  },
  {
   "cell_type": "code",
   "execution_count": 40,
   "id": "18c73697",
   "metadata": {},
   "outputs": [
    {
     "data": {
      "text/plain": [
       "tensor([0., 1., 2., 3.])"
      ]
     },
     "execution_count": 40,
     "metadata": {},
     "output_type": "execute_result"
    }
   ],
   "source": [
    "x = torch.arange(4.0)\n",
    "x"
   ]
  },
  {
   "cell_type": "markdown",
   "id": "2c8be42a",
   "metadata": {},
   "source": [
    "下面我们在计算梯度之前，需要一个地方来存储梯度，就像我们在进行一些循环时，需要一个空列表来存储内容。下面我们来看如何使用requires_grad_来存储"
   ]
  },
  {
   "cell_type": "code",
   "execution_count": 41,
   "id": "c37f18ce",
   "metadata": {},
   "outputs": [
    {
     "name": "stdout",
     "output_type": "stream",
     "text": [
      "None\n"
     ]
    }
   ],
   "source": [
    "x.requires_grad_(True)\n",
    "print(x.grad)     #默认是None，相当于这个时候是一个空列表"
   ]
  },
  {
   "cell_type": "code",
   "execution_count": 42,
   "id": "df6e408e",
   "metadata": {},
   "outputs": [
    {
     "data": {
      "text/plain": [
       "tensor(14., grad_fn=<DotBackward0>)"
      ]
     },
     "execution_count": 42,
     "metadata": {},
     "output_type": "execute_result"
    }
   ],
   "source": [
    "#下面我们来计算y\n",
    "# y = x * x\n",
    "y = torch.dot(x,x) #实质上是 x.T  *  x\n",
    "y"
   ]
  },
  {
   "cell_type": "code",
   "execution_count": 43,
   "id": "1e57c899",
   "metadata": {},
   "outputs": [
    {
     "data": {
      "text/plain": [
       "tensor([0., 2., 4., 6.])"
      ]
     },
     "execution_count": 43,
     "metadata": {},
     "output_type": "execute_result"
    }
   ],
   "source": [
    "# 通过反向传播函数计算梯度\n",
    "y.backward(retain_graph=False)\n",
    "x.grad"
   ]
  },
  {
   "cell_type": "markdown",
   "id": "900b21bc",
   "metadata": {},
   "source": [
    "这里默认情况下，pytorch会保存梯度，因此当我们需要重新计算梯度时，首先要进行初始化,使用grad.zero_"
   ]
  },
  {
   "cell_type": "code",
   "execution_count": 44,
   "id": "6f69c44a",
   "metadata": {},
   "outputs": [
    {
     "data": {
      "text/plain": [
       "tensor([1., 1., 1., 1.])"
      ]
     },
     "execution_count": 44,
     "metadata": {},
     "output_type": "execute_result"
    }
   ],
   "source": [
    "x.grad.zero_() #梯度清零\n",
    "# 重新计算 y=x 的梯度\n",
    "y = x.sum()\n",
    "y.backward()\n",
    "x.grad"
   ]
  },
  {
   "cell_type": "markdown",
   "id": "e0d0a676",
   "metadata": {},
   "source": [
    "上面我们都是先将y变为一个标量再求梯度，如果y不是标量呢？可以先将y求和转换为标量"
   ]
  },
  {
   "cell_type": "code",
   "execution_count": 45,
   "id": "7726c763",
   "metadata": {},
   "outputs": [
    {
     "name": "stdout",
     "output_type": "stream",
     "text": [
      "tensor([0., 1., 4., 9.], grad_fn=<MulBackward0>)\n"
     ]
    },
    {
     "data": {
      "text/plain": [
       "tensor([0., 2., 4., 6.])"
      ]
     },
     "execution_count": 45,
     "metadata": {},
     "output_type": "execute_result"
    }
   ],
   "source": [
    "x.grad.zero_()\n",
    "y = x*x\n",
    "print(y)\n",
    "y.sum().backward()\n",
    "x.grad"
   ]
  },
  {
   "attachments": {
    "image.png": {
     "image/png": "[encoded data removed]"
    }
   },
   "cell_type": "markdown",
   "id": "7db1dce6",
   "metadata": {},
   "source": [
    "![image.png](attachment:image.png)"
   ]
  },
  {
   "cell_type": "markdown",
   "id": "39f3385d",
   "metadata": {},
   "source": [
    "# 2.3 分离微分计算"
   ]
  },
  {
   "cell_type": "markdown",
   "id": "7cb5c656",
   "metadata": {},
   "source": [
    "这里沐神给出了一个这样的场景，y是关于x的函数，而z是关于y和x的函数，在我们对z求x偏导时，我们希望将y看做一个常数。这种方法在有的复杂的神经网络模型会很有效，具体通过detach()实现，将u为y的常量\n",
    "..\n",
    "即 z = f(y,x)= y * x  , y = f(x)=x * x"
   ]
  },
  {
   "cell_type": "code",
   "execution_count": 49,
   "id": "76d1b25b",
   "metadata": {},
   "outputs": [
    {
     "name": "stdout",
     "output_type": "stream",
     "text": [
      "x:   tensor([0., 1., 2., 3.], requires_grad=True)\n",
      "y:   tensor([ 0.,  1.,  8., 27.], grad_fn=<MulBackward0>)\n"
     ]
    },
    {
     "data": {
      "text/plain": [
       "tensor([0., 1., 4., 9.])"
      ]
     },
     "execution_count": 49,
     "metadata": {},
     "output_type": "execute_result"
    }
   ],
   "source": [
    "#z = f(y,x)= y * x  , y = f(x)=x * x\n",
    "print(\"x:  \",x)\n",
    "x.grad.zero_()#初始化梯度\n",
    "y = x * x#y对x的函数\n",
    "u = y.detach()#将y分离处理\n",
    "z = u * x#z对x的函数\n",
    "print(\"y:  \",z)\n",
    "z.sum().backward()#通过反向传播函数求梯度\n",
    "x.grad"
   ]
  },
  {
   "attachments": {
    "image.png": {
     "image/png": "[encoded data removed]"
    }
   },
   "cell_type": "markdown",
   "id": "35c51235",
   "metadata": {},
   "source": [
    "![image.png](attachment:image.png)"
   ]
  },
  {
   "cell_type": "code",
   "execution_count": 50,
   "id": "ac12bd96",
   "metadata": {},
   "outputs": [
    {
     "data": {
      "text/plain": [
       "tensor([0., 1., 4., 9.])"
      ]
     },
     "execution_count": 50,
     "metadata": {},
     "output_type": "execute_result"
    }
   ],
   "source": [
    "u"
   ]
  },
  {
   "cell_type": "markdown",
   "id": "4d2c3cf9",
   "metadata": {},
   "source": [
    "# 2.4 控制流梯度计算"
   ]
  },
  {
   "cell_type": "markdown",
   "id": "b6763c22",
   "metadata": {},
   "source": [
    "使用自动微分有一个好处是，当我们的函数是分段的，其也会自动计算得到相应的梯度。下面我们来看一个线性控制流梯度计算案例："
   ]
  },
  {
   "attachments": {
    "image.png": {
     "image/png": "[encoded data removed]"
    }
   },
   "cell_type": "markdown",
   "id": "199b561a",
   "metadata": {},
   "source": [
    "![image.png](attachment:image.png)"
   ]
  },
  {
   "cell_type": "code",
   "execution_count": 98,
   "id": "6eb71c20",
   "metadata": {},
   "outputs": [],
   "source": [
    "def f(a):\n",
    "    if a.sum() > 0:\n",
    "        b = a\n",
    "    else:\n",
    "        b = 100 * a\n",
    "    return b"
   ]
  },
  {
   "cell_type": "code",
   "execution_count": 99,
   "id": "7821965d",
   "metadata": {},
   "outputs": [
    {
     "data": {
      "text/plain": [
       "tensor([True, True, True, True, True, True, True, True, True, True, True, True])"
      ]
     },
     "execution_count": 99,
     "metadata": {},
     "output_type": "execute_result"
    }
   ],
   "source": [
    "a = torch.randn(12, requires_grad=True)\n",
    "d = f(a)\n",
    "d.backward(torch.ones_like(a))\n",
    "a.grad == d / a"
   ]
  },
  {
   "cell_type": "markdown",
   "id": "57f23e34",
   "metadata": {},
   "source": [
    "# 练习与总结\n",
    "练习与总结\n",
    "练习与总结\n",
    "练习与总结\n",
    "练习与总结\n",
    "练习与总结\n",
    "# 练习与总结"
   ]
  },
  {
   "attachments": {
    "image.png": {
     "image/png": "[encoded data removed]"
    }
   },
   "cell_type": "markdown",
   "id": "13f2fe3d",
   "metadata": {},
   "source": [
    "![image.png](attachment:image.png)"
   ]
  },
  {
   "cell_type": "markdown",
   "id": "4a3b5a3c",
   "metadata": {},
   "source": [
    "# norm(x)如果x是一个向量，那么norm(x)就等于x的模长。\n",
    "称为范数"
   ]
  },
  {
   "cell_type": "code",
   "execution_count": 105,
   "id": "c115566e",
   "metadata": {},
   "outputs": [
    {
     "name": "stdout",
     "output_type": "stream",
     "text": [
      "tensor([-0.1411, -1.0098, -0.1890,  0.2472, -0.6672, -0.3723, -1.2092, -0.0230,\n",
      "        -0.2149,  1.5529, -1.4834,  0.5899], requires_grad=True)\n",
      "tensor(2.8617, grad_fn=<CopyBackwards>)\n"
     ]
    },
    {
     "data": {
      "text/plain": [
       "tensor([-0.2822, -2.0196, -0.3780,  0.4944, -1.3344, -0.7446, -2.4185, -0.0460,\n",
       "        -0.4299,  3.1058, -2.9668,  1.1798])"
      ]
     },
     "execution_count": 105,
     "metadata": {},
     "output_type": "execute_result"
    }
   ],
   "source": [
    "def f(x):\n",
    "    if x.norm() > 10:\n",
    "        y = x\n",
    "    else:\n",
    "        y = x*x\n",
    "    return y\n",
    "\n",
    "x = torch.randn(12,requires_grad=True)\n",
    "print(x)\n",
    "print(x.norm())\n",
    "d = f(x)\n",
    "d.backward(torch.ones_like(x))\n",
    "x.grad"
   ]
  },
  {
   "cell_type": "markdown",
   "id": "eade9ba5",
   "metadata": {},
   "source": [
    "# 数据预处理"
   ]
  },
  {
   "cell_type": "code",
   "execution_count": 3,
   "id": "ad95b8d5",
   "metadata": {},
   "outputs": [],
   "source": [
    "import numpy as np\n",
    "import pandas as pd\n",
    "import torch\n",
    "from numpy import nan as NaN"
   ]
  },
  {
   "cell_type": "code",
   "execution_count": 5,
   "id": "9147951c",
   "metadata": {},
   "outputs": [
    {
     "name": "stdout",
     "output_type": "stream",
     "text": [
      "1.原始数据:\n",
      "    NumRooms Alley   Price\n",
      "0       NaN  Pave  127500\n",
      "1       2.0   NaN  106000\n",
      "2       4.0   NaN  178100\n",
      "3       NaN   NaN  140000\n"
     ]
    }
   ],
   "source": [
    "data = pd.read_csv(\"house_tiny.csv\")  \n",
    "# 可以看到原始表格中的空值NA被识别成了NaN\n",
    "print('1.原始数据:\\n', data)"
   ]
  },
  {
   "cell_type": "code",
   "execution_count": 6,
   "id": "5772d15c",
   "metadata": {},
   "outputs": [
    {
     "name": "stdout",
     "output_type": "stream",
     "text": [
      "   NumRooms Alley\n",
      "0       3.0  Pave\n",
      "1       2.0   NaN\n",
      "2       4.0   NaN\n",
      "3       3.0   NaN\n",
      "----------------------------------------\n",
      "0    127500\n",
      "1    106000\n",
      "2    178100\n",
      "3    140000\n",
      "Name: Price, dtype: int64\n",
      "----------------------------------------\n",
      "2.利用pandas中的get_dummies函数处理:\n",
      "    NumRooms  Alley_Pave  Alley_nan\n",
      "0       3.0           1          0\n",
      "1       2.0           0          1\n",
      "2       4.0           0          1\n",
      "3       3.0           0          1\n"
     ]
    }
   ],
   "source": [
    "inputs, outputs = data.iloc[:, 0: 2], data.iloc[:, 2]\n",
    "inputs = inputs.fillna(inputs.mean())  # 用均值填充NaN\n",
    "print(inputs)\n",
    "print(\"-\"*40)\n",
    "print(outputs)\n",
    "print(\"-\"*40)\n",
    "# 利用pandas中的get_dummies函数来处理离散值或者类别值。\n",
    "# [对于 inputs 中的类别值或离散值，我们将 “NaN” 视为一个类别。] \n",
    "#由于 “Alley”列只接受两种类型的类别值 “Pave” 和 “NaN”\n",
    "inputs = pd.get_dummies(inputs, dummy_na=True)\n",
    "print('2.利用pandas中的get_dummies函数处理:\\n', inputs)"
   ]
  },
  {
   "cell_type": "code",
   "execution_count": 7,
   "id": "f6a34b89",
   "metadata": {},
   "outputs": [
    {
     "name": "stdout",
     "output_type": "stream",
     "text": [
      "3.转换为张量：\n",
      "tensor([[3., 1., 0.],\n",
      "        [2., 0., 1.],\n",
      "        [4., 0., 1.],\n",
      "        [3., 0., 1.]], dtype=torch.float64)\n",
      "tensor([127500, 106000, 178100, 140000])\n"
     ]
    }
   ],
   "source": [
    "x, y = torch.tensor(inputs.values), torch.tensor(outputs.values)\n",
    "print('3.转换为张量：')\n",
    "print(x)\n",
    "print(y)"
   ]
  },
  {
   "cell_type": "code",
   "execution_count": 8,
   "id": "97ec0e35",
   "metadata": {},
   "outputs": [
    {
     "name": "stdout",
     "output_type": "stream",
     "text": [
      "4.函数fillna的用法：\n",
      "     0    1    2\n",
      "0  1.0  2.0  3.0\n",
      "1  NaN  NaN  2.0\n",
      "2  NaN  NaN  NaN\n",
      "3  8.0  8.0  NaN\n",
      "----------------------------------------\n",
      "       0      1      2\n",
      "0    1.0    2.0    3.0\n",
      "1  100.0  100.0    2.0\n",
      "2  100.0  100.0  100.0\n",
      "3    8.0    8.0  100.0\n",
      "----------------------------------------\n",
      "      0     1     2\n",
      "0   1.0   2.0   3.0\n",
      "1  10.0  20.0   2.0\n",
      "2  10.0  20.0  30.0\n",
      "3   8.0   8.0  30.0\n",
      "----------------------------------------\n",
      "     0    1    2\n",
      "0  1.0  2.0  3.0\n",
      "1  1.0  2.0  2.0\n",
      "2  1.0  2.0  2.0\n",
      "3  8.0  8.0  2.0\n"
     ]
    }
   ],
   "source": [
    "# 扩展填充函数fillna的用法\n",
    "df1 = pd.DataFrame([[1, 2, 3], [NaN, NaN, 2], [NaN, NaN, NaN], [8, 8, NaN]])  # 创建初始数据\n",
    "print('4.函数fillna的用法：')\n",
    "print(df1)\n",
    "print(\"-\"*40)\n",
    "print(df1.fillna(100))  # 用常数填充 ，默认不会修改原对象\n",
    "print(\"-\"*40)\n",
    "print(df1.fillna({0: 10, 1: 20, 2: 30}))  # 通过字典填充不同的常数，默认不会修改原对象\n",
    "print(\"-\"*40)\n",
    "print(df1.fillna(method='ffill'))  # 用前面的值来填充\n",
    "# inplace= True直接修改原对象\n",
    "# print(df1.fillna(0, inplace=True))  "
   ]
  },
  {
   "cell_type": "code",
   "execution_count": 9,
   "id": "371fefb4",
   "metadata": {},
   "outputs": [
    {
     "name": "stdout",
     "output_type": "stream",
     "text": [
      "   0  1  2    3    4\n",
      "0  3  0  6  7.0  5.0\n",
      "1  6  9  9  NaN  8.0\n",
      "2  9  7  5  NaN  NaN\n",
      "3  8  6  9  NaN  NaN\n",
      "4  2  8  8  1.0  8.0\n",
      "----------------------------------------\n",
      "   0  1  2    3    4\n",
      "0  3  0  6  7.0  5.0\n",
      "1  6  9  9  NaN  8.0\n",
      "2  9  7  5  1.0  8.0\n",
      "3  8  6  9  1.0  8.0\n",
      "4  2  8  8  1.0  8.0\n",
      "----------------------------------------\n",
      "     0    1    2    3    4\n",
      "0  3.0  0.0  6.0  7.0  5.0\n",
      "1  6.0  9.0  9.0  9.0  8.0\n",
      "2  9.0  7.0  5.0  5.0  NaN\n",
      "3  8.0  6.0  9.0  9.0  NaN\n",
      "4  2.0  8.0  8.0  1.0  8.0\n",
      "----------------------------------------\n"
     ]
    }
   ],
   "source": [
    "df2 = pd.DataFrame(np.random.randint(0, 10, (5, 5)))  # 随机创建一个5*5\n",
    "df2.iloc[1:4, 3] = NaN\n",
    "df2.iloc[2:4, 4] = NaN  # 指定的索引处插入值\n",
    "print(df2)\n",
    "print(\"-\"*40)\n",
    "print(df2.fillna(method='bfill', limit=2))  # 限制填充个数\n",
    "print(\"-\"*40)\n",
    "print(df2.fillna(method=\"ffill\", limit=1, axis=1)) \n",
    "print(\"-\"*40)"
   ]
  },
  {
   "cell_type": "code",
   "execution_count": null,
   "id": "b9e92cc4",
   "metadata": {},
   "outputs": [],
   "source": []
  }
 ],
 "metadata": {
  "kernelspec": {
   "display_name": "Python 3",
   "language": "python",
   "name": "python3"
  },
  "language_info": {
   "codemirror_mode": {
    "name": "ipython",
    "version": 3
   },
   "file_extension": ".py",
   "mimetype": "text/x-python",
   "name": "python",
   "nbconvert_exporter": "python",
   "pygments_lexer": "ipython3",
   "version": "3.6.15"
  }
 },
 "nbformat": 4,
 "nbformat_minor": 5
}
